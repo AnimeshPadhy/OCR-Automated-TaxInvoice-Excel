{
  "nbformat": 4,
  "nbformat_minor": 0,
  "metadata": {
    "colab": {
      "provenance": [],
      "authorship_tag": "ABX9TyO3AHEqrkI5hcSiz3W9ZpK+",
      "include_colab_link": true
    },
    "kernelspec": {
      "name": "python3",
      "display_name": "Python 3"
    },
    "language_info": {
      "name": "python"
    }
  },
  "cells": [
    {
      "cell_type": "markdown",
      "metadata": {
        "id": "view-in-github",
        "colab_type": "text"
      },
      "source": [
        "<a href=\"https://colab.research.google.com/github/AnimeshPadhy/OCR-Automated-TaxInvoice-Excel/blob/main/PaddleOCR_Invoice.ipynb\" target=\"_parent\"><img src=\"https://colab.research.google.com/assets/colab-badge.svg\" alt=\"Open In Colab\"/></a>"
      ]
    },
    {
      "cell_type": "markdown",
      "source": [
        "## Layout\n"
      ],
      "metadata": {
        "id": "nsV2WimkZ2Qf"
      }
    },
    {
      "cell_type": "markdown",
      "source": [
        "Installation"
      ],
      "metadata": {
        "id": "PyGF1xLFZ1pT"
      }
    },
    {
      "cell_type": "code",
      "source": [
        "!pip install \"paddleocr>=2.0.1\""
      ],
      "metadata": {
        "id": "EXO6seg6-63a"
      },
      "execution_count": null,
      "outputs": []
    },
    {
      "cell_type": "code",
      "source": [
        "!pip install \"paddlepaddle-gpu>=2.3\"\n",
        "!pip install \"paddlepaddle>=2.3\""
      ],
      "metadata": {
        "id": "DwrXvYVoNNsI"
      },
      "execution_count": null,
      "outputs": []
    },
    {
      "cell_type": "code",
      "source": [
        "!git clone https://github.com/PaddlePaddle/PaddleDetection.git"
      ],
      "metadata": {
        "id": "H9ZC2XA1N1Tl"
      },
      "execution_count": null,
      "outputs": []
    },
    {
      "cell_type": "code",
      "source": [
        "%cd PaddleDetection\n",
        "!pip install -r requirements.txt"
      ],
      "metadata": {
        "id": "HTm3uXR-N_iO"
      },
      "execution_count": null,
      "outputs": []
    },
    {
      "cell_type": "code",
      "execution_count": null,
      "metadata": {
        "id": "QvzcOOPXYRBg"
      },
      "outputs": [],
      "source": [
        "!wget https://paddleocr.bj.bcebos.com/whl/layoutparser-0.0.0-py3-none-any.whl\n",
        "!pip install -U layoutparser-0.0.0-py3-none-any.whl\n",
        "\n"
      ]
    },
    {
      "cell_type": "code",
      "source": [
        "!wget http://nz2.archive.ubuntu.com/ubuntu/pool/main/o/openssl/libssl1.1_1.1.1f-1ubuntu2.19_amd64.deb\n",
        "\n",
        "!sudo dpkg -i libssl1.1_1.1.1f-1ubuntu2.19_amd64.deb"
      ],
      "metadata": {
        "id": "sU5v8pyePyeX"
      },
      "execution_count": null,
      "outputs": []
    },
    {
      "cell_type": "code",
      "source": [
        "import cv2\n",
        "import layoutparser as lp\n",
        "image = cv2.imread(\"/content/TaxInvoice_cropped.jpg\")\n",
        "image = image[..., ::-1]\n",
        "\n",
        "# load model\n",
        "model = lp.PaddleDetectionLayoutModel(config_path=\"lp://PubLayNet/ppyolov2_r50vd_dcn_365e_publaynet/config\",\n",
        "                                threshold=0.5,\n",
        "                                label_map={0: \"Text\", 1: \"Title\", 2: \"List\", 3:\"Table\", 4:\"Figure\"},\n",
        "                                enforce_cpu=False,\n",
        "                                enable_mkldnn=True)\n",
        "# detect\n",
        "layout = model.detect(image)"
      ],
      "metadata": {
        "id": "uIMlCmhWaqlN"
      },
      "execution_count": 95,
      "outputs": []
    },
    {
      "cell_type": "code",
      "source": [
        "layout"
      ],
      "metadata": {
        "id": "AztxlD6JyTt2",
        "colab": {
          "base_uri": "https://localhost:8080/"
        },
        "outputId": "09b99184-f320-472b-e9e7-47cc333f5c4b"
      },
      "execution_count": 96,
      "outputs": [
        {
          "output_type": "execute_result",
          "data": {
            "text/plain": [
              "Layout(_blocks=[TextBlock(block=Rectangle(x_1=34.379119873046875, y_1=2.7888336181640625, x_2=653.5137939453125, y_2=288.0), text=None, id=None, type=Figure, parent=None, next=None, score=0.7843440771102905), TextBlock(block=Rectangle(x_1=34.379119873046875, y_1=2.7888336181640625, x_2=653.5137939453125, y_2=288.0), text=None, id=None, type=Table, parent=None, next=None, score=0.6771886944770813)], page_data={})"
            ]
          },
          "metadata": {},
          "execution_count": 96
        }
      ]
    },
    {
      "cell_type": "code",
      "source": [
        "for l in layout:\n",
        "  if l.type == 'Figure':\n",
        "    x_1 = int(l.block.x_1)\n",
        "    y_1 = int(l.block.y_1)\n",
        "    x_2 = int(l.block.x_2)\n",
        "    y_2 = int(l.block.y_2)"
      ],
      "metadata": {
        "id": "DoSfuZRNRdLj"
      },
      "execution_count": 97,
      "outputs": []
    },
    {
      "cell_type": "code",
      "source": [
        "print(x_1,y_1,x_2,y_2)"
      ],
      "metadata": {
        "id": "O9HDPxPkRoP5",
        "colab": {
          "base_uri": "https://localhost:8080/"
        },
        "outputId": "0d0f7e71-5e04-4e85-fee2-a2fa67a0a1e2"
      },
      "execution_count": 98,
      "outputs": [
        {
          "output_type": "stream",
          "name": "stdout",
          "text": [
            "34 2 653 288\n"
          ]
        }
      ]
    },
    {
      "cell_type": "code",
      "source": [
        "im = cv2.imread('/content/TaxInvoice_cropped.jpg')"
      ],
      "metadata": {
        "id": "Si-P_ZO1_1ZF"
      },
      "execution_count": 99,
      "outputs": []
    },
    {
      "cell_type": "code",
      "source": [
        "cv2.imwrite('ext_im.jpg',im[y_1:y_2,x_1:x_2])"
      ],
      "metadata": {
        "id": "GtYvQMYvAFlY",
        "colab": {
          "base_uri": "https://localhost:8080/"
        },
        "outputId": "7bd2fdee-3542-41a2-b62b-ee3300b9987f"
      },
      "execution_count": 100,
      "outputs": [
        {
          "output_type": "execute_result",
          "data": {
            "text/plain": [
              "True"
            ]
          },
          "metadata": {},
          "execution_count": 100
        }
      ]
    },
    {
      "cell_type": "code",
      "source": [
        "from google.colab import files\n",
        "\n",
        "# Download the saved image to your local machine\n",
        "files.download('ext_im.jpg')"
      ],
      "metadata": {
        "id": "_YV4dwBSCd7S",
        "colab": {
          "base_uri": "https://localhost:8080/",
          "height": 17
        },
        "outputId": "a50765a6-b3c7-4f9b-aef0-259c321949db"
      },
      "execution_count": 101,
      "outputs": [
        {
          "output_type": "display_data",
          "data": {
            "text/plain": [
              "<IPython.core.display.Javascript object>"
            ],
            "application/javascript": [
              "\n",
              "    async function download(id, filename, size) {\n",
              "      if (!google.colab.kernel.accessAllowed) {\n",
              "        return;\n",
              "      }\n",
              "      const div = document.createElement('div');\n",
              "      const label = document.createElement('label');\n",
              "      label.textContent = `Downloading \"${filename}\": `;\n",
              "      div.appendChild(label);\n",
              "      const progress = document.createElement('progress');\n",
              "      progress.max = size;\n",
              "      div.appendChild(progress);\n",
              "      document.body.appendChild(div);\n",
              "\n",
              "      const buffers = [];\n",
              "      let downloaded = 0;\n",
              "\n",
              "      const channel = await google.colab.kernel.comms.open(id);\n",
              "      // Send a message to notify the kernel that we're ready.\n",
              "      channel.send({})\n",
              "\n",
              "      for await (const message of channel.messages) {\n",
              "        // Send a message to notify the kernel that we're ready.\n",
              "        channel.send({})\n",
              "        if (message.buffers) {\n",
              "          for (const buffer of message.buffers) {\n",
              "            buffers.push(buffer);\n",
              "            downloaded += buffer.byteLength;\n",
              "            progress.value = downloaded;\n",
              "          }\n",
              "        }\n",
              "      }\n",
              "      const blob = new Blob(buffers, {type: 'application/binary'});\n",
              "      const a = document.createElement('a');\n",
              "      a.href = window.URL.createObjectURL(blob);\n",
              "      a.download = filename;\n",
              "      div.appendChild(a);\n",
              "      a.click();\n",
              "      div.remove();\n",
              "    }\n",
              "  "
            ]
          },
          "metadata": {}
        },
        {
          "output_type": "display_data",
          "data": {
            "text/plain": [
              "<IPython.core.display.Javascript object>"
            ],
            "application/javascript": [
              "download(\"download_db3556bf-9c5b-40cb-b126-d7253cce9847\", \"ext_im.jpg\", 57583)"
            ]
          },
          "metadata": {}
        }
      ]
    },
    {
      "cell_type": "markdown",
      "source": [
        "# Text detection and Recognition\n"
      ],
      "metadata": {
        "id": "Y0jvgDcvBXQ9"
      }
    },
    {
      "cell_type": "code",
      "source": [
        "from paddleocr import PaddleOCR, draw_ocr"
      ],
      "metadata": {
        "id": "0M5b6md-AfKK"
      },
      "execution_count": 102,
      "outputs": []
    },
    {
      "cell_type": "code",
      "source": [
        "ocr = PaddleOCR(lang = 'en')"
      ],
      "metadata": {
        "id": "28U20ngsBkqD",
        "colab": {
          "base_uri": "https://localhost:8080/"
        },
        "outputId": "3b02e235-b805-457f-98ed-6424e07a9d47"
      },
      "execution_count": 103,
      "outputs": [
        {
          "output_type": "stream",
          "name": "stdout",
          "text": [
            "[2023/08/18 08:19:16] ppocr DEBUG: Namespace(help='==SUPPRESS==', use_gpu=False, use_xpu=False, use_npu=False, ir_optim=True, use_tensorrt=False, min_subgraph_size=15, precision='fp32', gpu_mem=500, gpu_id=0, image_dir=None, page_num=0, det_algorithm='DB', det_model_dir='/root/.paddleocr/whl/det/en/en_PP-OCRv3_det_infer', det_limit_side_len=960, det_limit_type='max', det_box_type='quad', det_db_thresh=0.3, det_db_box_thresh=0.6, det_db_unclip_ratio=1.5, max_batch_size=10, use_dilation=False, det_db_score_mode='fast', det_east_score_thresh=0.8, det_east_cover_thresh=0.1, det_east_nms_thresh=0.2, det_sast_score_thresh=0.5, det_sast_nms_thresh=0.2, det_pse_thresh=0, det_pse_box_thresh=0.85, det_pse_min_area=16, det_pse_scale=1, scales=[8, 16, 32], alpha=1.0, beta=1.0, fourier_degree=5, rec_algorithm='SVTR_LCNet', rec_model_dir='/root/.paddleocr/whl/rec/en/en_PP-OCRv4_rec_infer', rec_image_inverse=True, rec_image_shape='3, 48, 320', rec_batch_num=6, max_text_length=25, rec_char_dict_path='/usr/local/lib/python3.10/dist-packages/paddleocr/ppocr/utils/en_dict.txt', use_space_char=True, vis_font_path='./doc/fonts/simfang.ttf', drop_score=0.5, e2e_algorithm='PGNet', e2e_model_dir=None, e2e_limit_side_len=768, e2e_limit_type='max', e2e_pgnet_score_thresh=0.5, e2e_char_dict_path='./ppocr/utils/ic15_dict.txt', e2e_pgnet_valid_set='totaltext', e2e_pgnet_mode='fast', use_angle_cls=False, cls_model_dir='/root/.paddleocr/whl/cls/ch_ppocr_mobile_v2.0_cls_infer', cls_image_shape='3, 48, 192', label_list=['0', '180'], cls_batch_num=6, cls_thresh=0.9, enable_mkldnn=False, cpu_threads=10, use_pdserving=False, warmup=False, sr_model_dir=None, sr_image_shape='3, 32, 128', sr_batch_num=1, draw_img_save_dir='./inference_results', save_crop_res=False, crop_res_save_dir='./output', use_mp=False, total_process_num=1, process_id=0, benchmark=False, save_log_path='./log_output/', show_log=True, use_onnx=False, return_word_box=False, output='./output', table_max_len=488, table_algorithm='TableAttn', table_model_dir=None, merge_no_span_structure=True, table_char_dict_path=None, layout_model_dir=None, layout_dict_path=None, layout_score_threshold=0.5, layout_nms_threshold=0.5, kie_algorithm='LayoutXLM', ser_model_dir=None, re_model_dir=None, use_visual_backbone=True, ser_dict_path='../train_data/XFUND/class_list_xfun.txt', ocr_order_method=None, mode='structure', image_orientation=False, layout=True, table=True, ocr=True, recovery=False, use_pdf2docx_api=False, lang='en', det=True, rec=True, type='ocr', ocr_version='PP-OCRv4', structure_version='PP-StructureV2')\n"
          ]
        }
      ]
    },
    {
      "cell_type": "code",
      "source": [
        "import os\n",
        "\n",
        "# Define the filename of the saved image\n",
        "filename = 'ext_im.jpg'\n",
        "\n",
        "# Get the current working directory path in Colab\n",
        "current_directory = os.getcwd()\n",
        "\n",
        "# Concatenate the current directory path with the filename to get the full path\n",
        "image_path = os.path.join(current_directory, filename)\n",
        "\n",
        "image_cv = cv2.imread(image_path)\n",
        "image_height = image_cv.shape[0]\n",
        "image_width = image_cv.shape[1]\n",
        "\n",
        "output = ocr.ocr(image_path)\n"
      ],
      "metadata": {
        "id": "cOGoRoLzBskb",
        "colab": {
          "base_uri": "https://localhost:8080/"
        },
        "outputId": "90336622-06b1-4b99-d7c8-ccfb7a2027fc"
      },
      "execution_count": 104,
      "outputs": [
        {
          "output_type": "stream",
          "name": "stdout",
          "text": [
            "[2023/08/18 08:19:17] ppocr WARNING: Since the angle classifier is not initialized, the angle classifier will not be uesd during the forward process\n",
            "[2023/08/18 08:19:18] ppocr DEBUG: dt_boxes num : 51, elapse : 0.37854814529418945\n",
            "[2023/08/18 08:19:31] ppocr DEBUG: rec_res num  : 51, elapse : 13.273568391799927\n"
          ]
        }
      ]
    },
    {
      "cell_type": "code",
      "source": [
        "print(output)"
      ],
      "metadata": {
        "id": "_1XHSLk6Dq19",
        "colab": {
          "base_uri": "https://localhost:8080/"
        },
        "outputId": "597a34c6-efde-4c70-ec06-aa6909721be4"
      },
      "execution_count": 105,
      "outputs": [
        {
          "output_type": "stream",
          "name": "stdout",
          "text": [
            "[[[[[3.0, 5.0], [22.0, 5.0], [22.0, 18.0], [3.0, 18.0]], ('Sr.', 0.9957569241523743)], [[[188.0, 2.0], [243.0, 2.0], [243.0, 16.0], [188.0, 16.0]], ('HSN/SAC', 0.9949851632118225)], [[[494.0, 1.0], [536.0, 1.0], [536.0, 12.0], [494.0, 12.0]], ('Taxable', 0.9966048002243042)], [[[553.0, 1.0], [603.0, 1.0], [603.0, 11.0], [553.0, 11.0]], ('AMOUNT', 0.9885193705558777)], [[[4.0, 20.0], [22.0, 20.0], [22.0, 32.0], [4.0, 32.0]], ('No', 0.9693977236747742)], [[[31.0, 18.0], [113.0, 18.0], [113.0, 32.0], [31.0, 32.0]], ('DESCRIPTION', 0.9972743391990662)], [[[187.0, 17.0], [218.0, 17.0], [218.0, 31.0], [187.0, 31.0]], ('code', 0.9899513721466064)], [[[252.0, 17.0], [279.0, 17.0], [279.0, 29.0], [252.0, 29.0]], ('Qnty', 0.9940733909606934)], [[[292.0, 15.0], [324.0, 15.0], [324.0, 29.0], [292.0, 29.0]], ('UOM', 0.9874367713928223)], [[[340.0, 15.0], [402.0, 15.0], [402.0, 26.0], [340.0, 26.0]], ('RATERs.', 0.9217668771743774)], [[[420.0, 15.0], [471.0, 13.0], [472.0, 27.0], [421.0, 29.0]], ('Discount', 0.9973067045211792)], [[[487.0, 15.0], [541.0, 15.0], [541.0, 26.0], [487.0, 26.0]], ('Value Rs', 0.9287118911743164)], [[[565.0, 13.0], [596.0, 13.0], [596.0, 27.0], [565.0, 27.0]], ('Rs.)', 0.857263445854187)], [[[32.0, 49.0], [166.0, 49.0], [166.0, 62.0], [32.0, 62.0]], ('Car Washing Hi Pressure', 0.9650688767433167)], [[[220.0, 46.0], [250.0, 46.0], [250.0, 61.0], [220.0, 61.0]], ('8413', 0.9985027313232422)], [[[282.0, 46.0], [315.0, 46.0], [315.0, 60.0], [282.0, 60.0]], ('1NO', 0.9767632484436035)], [[[354.0, 45.0], [407.0, 45.0], [407.0, 59.0], [354.0, 59.0]], ('78000.00', 0.9944804310798645)], [[[456.0, 45.0], [483.0, 45.0], [483.0, 57.0], [456.0, 57.0]], ('0.00', 0.9933117628097534)], [[[494.0, 45.0], [543.0, 45.0], [543.0, 56.0], [494.0, 56.0]], ('78000.00', 0.995461106300354)], [[[560.0, 43.0], [612.0, 43.0], [612.0, 57.0], [560.0, 57.0]], ('78000.00', 0.9944612979888916)], [[[31.0, 64.0], [64.0, 64.0], [64.0, 77.0], [31.0, 77.0]], ('Pump', 0.9910174012184143)], [[[31.0, 80.0], [166.0, 79.0], [166.0, 93.0], [31.0, 94.0]], ('Solenoid Valve 2/224vdc', 0.938427746295929)], [[[220.0, 78.0], [249.0, 78.0], [249.0, 93.0], [220.0, 93.0]], ('8481', 0.9972835183143616)], [[[456.0, 77.0], [483.0, 77.0], [483.0, 89.0], [456.0, 89.0]], ('0.00', 0.9837182760238647)], [[[499.0, 75.0], [545.0, 75.0], [545.0, 89.0], [499.0, 89.0]], ('3200.00', 0.9952859878540039)], [[[566.0, 74.0], [612.0, 74.0], [612.0, 89.0], [566.0, 89.0]], ('6400.00', 0.9923862814903259)], [[[280.0, 90.0], [315.0, 90.0], [315.0, 105.0], [280.0, 105.0]], ('2NO', 0.9723656177520752)], [[[361.0, 90.0], [407.0, 90.0], [407.0, 104.0], [361.0, 104.0]], ('3200.00', 0.99577397108078)], [[[31.0, 108.0], [121.0, 107.0], [121.0, 121.0], [32.0, 122.0]], ('Check Valve 1/2', 0.9563330411911011)], [[[221.0, 108.0], [249.0, 108.0], [249.0, 121.0], [221.0, 121.0]], ('8481', 0.9984059929847717)], [[[454.0, 106.0], [483.0, 103.0], [484.0, 117.0], [455.0, 120.0]], ('0.00', 0.9875277280807495)], [[[500.0, 104.0], [545.0, 104.0], [545.0, 118.0], [500.0, 118.0]], ('1850.00', 0.9945277571678162)], [[[565.0, 103.0], [613.0, 103.0], [613.0, 117.0], [565.0, 117.0]], ('3700.00', 0.9917264580726624)], [[[7.0, 126.0], [13.0, 126.0], [13.0, 135.0], [7.0, 135.0]], ('3', 0.6382533311843872)], [[[281.0, 120.0], [315.0, 120.0], [315.0, 135.0], [281.0, 135.0]], ('2NO', 0.9792035222053528)], [[[363.0, 121.0], [406.0, 121.0], [406.0, 132.0], [363.0, 132.0]], ('1850.00', 0.9924020767211914)], [[[505.0, 192.0], [547.0, 192.0], [547.0, 206.0], [505.0, 206.0]], ('Freight', 0.9902230501174927)], [[[586.0, 192.0], [612.0, 192.0], [612.0, 204.0], [586.0, 204.0]], ('0.00', 0.9942625761032104)], [[[485.0, 214.0], [545.0, 214.0], [545.0, 225.0], [485.0, 225.0]], ('Basic value', 0.963576078414917)], [[[561.0, 212.0], [612.0, 212.0], [612.0, 225.0], [561.0, 225.0]], ('88100.00', 0.9946956634521484)], [[[302.0, 228.0], [338.0, 228.0], [338.0, 243.0], [302.0, 243.0]], ('CGST', 0.9944390058517456)], [[[372.0, 228.0], [407.0, 228.0], [407.0, 242.0], [372.0, 242.0]], ('9.00%', 0.9570962190628052)], [[[568.0, 226.0], [612.0, 226.0], [612.0, 240.0], [568.0, 240.0]], ('7929.00', 0.9968467950820923)], [[[302.0, 243.0], [338.0, 243.0], [338.0, 258.0], [302.0, 258.0]], ('SGST', 0.9952542781829834)], [[[372.0, 243.0], [408.0, 243.0], [408.0, 257.0], [372.0, 257.0]], ('9.00%', 0.9980270266532898)], [[[568.0, 240.0], [613.0, 240.0], [613.0, 254.0], [568.0, 254.0]], ('7929.00', 0.9950212240219116)], [[[307.0, 258.0], [339.0, 258.0], [339.0, 272.0], [307.0, 272.0]], ('IGST', 0.9959328174591064)], [[[372.0, 257.0], [408.0, 257.0], [408.0, 271.0], [372.0, 271.0]], ('0.00%', 0.9962207078933716)], [[[585.0, 254.0], [613.0, 254.0], [613.0, 269.0], [585.0, 269.0]], ('0.00', 0.9526457190513611)], [[[397.0, 271.0], [485.0, 271.0], [485.0, 284.0], [397.0, 284.0]], ('GRAND TOTAL', 0.9727221131324768)], [[[550.0, 271.0], [612.0, 271.0], [612.0, 282.0], [550.0, 282.0]], ('103958.00', 0.9967718124389648)]]]\n"
          ]
        }
      ]
    },
    {
      "cell_type": "code",
      "source": [
        "boxes = [line[0] for line in output[0]]\n",
        "for box in output[0]:\n",
        "  print(box)"
      ],
      "metadata": {
        "id": "e1vGklI8WRCg",
        "colab": {
          "base_uri": "https://localhost:8080/"
        },
        "outputId": "d787534c-d8df-4372-c4aa-e1c16da25570"
      },
      "execution_count": 106,
      "outputs": [
        {
          "output_type": "stream",
          "name": "stdout",
          "text": [
            "[[[3.0, 5.0], [22.0, 5.0], [22.0, 18.0], [3.0, 18.0]], ('Sr.', 0.9957569241523743)]\n",
            "[[[188.0, 2.0], [243.0, 2.0], [243.0, 16.0], [188.0, 16.0]], ('HSN/SAC', 0.9949851632118225)]\n",
            "[[[494.0, 1.0], [536.0, 1.0], [536.0, 12.0], [494.0, 12.0]], ('Taxable', 0.9966048002243042)]\n",
            "[[[553.0, 1.0], [603.0, 1.0], [603.0, 11.0], [553.0, 11.0]], ('AMOUNT', 0.9885193705558777)]\n",
            "[[[4.0, 20.0], [22.0, 20.0], [22.0, 32.0], [4.0, 32.0]], ('No', 0.9693977236747742)]\n",
            "[[[31.0, 18.0], [113.0, 18.0], [113.0, 32.0], [31.0, 32.0]], ('DESCRIPTION', 0.9972743391990662)]\n",
            "[[[187.0, 17.0], [218.0, 17.0], [218.0, 31.0], [187.0, 31.0]], ('code', 0.9899513721466064)]\n",
            "[[[252.0, 17.0], [279.0, 17.0], [279.0, 29.0], [252.0, 29.0]], ('Qnty', 0.9940733909606934)]\n",
            "[[[292.0, 15.0], [324.0, 15.0], [324.0, 29.0], [292.0, 29.0]], ('UOM', 0.9874367713928223)]\n",
            "[[[340.0, 15.0], [402.0, 15.0], [402.0, 26.0], [340.0, 26.0]], ('RATERs.', 0.9217668771743774)]\n",
            "[[[420.0, 15.0], [471.0, 13.0], [472.0, 27.0], [421.0, 29.0]], ('Discount', 0.9973067045211792)]\n",
            "[[[487.0, 15.0], [541.0, 15.0], [541.0, 26.0], [487.0, 26.0]], ('Value Rs', 0.9287118911743164)]\n",
            "[[[565.0, 13.0], [596.0, 13.0], [596.0, 27.0], [565.0, 27.0]], ('Rs.)', 0.857263445854187)]\n",
            "[[[32.0, 49.0], [166.0, 49.0], [166.0, 62.0], [32.0, 62.0]], ('Car Washing Hi Pressure', 0.9650688767433167)]\n",
            "[[[220.0, 46.0], [250.0, 46.0], [250.0, 61.0], [220.0, 61.0]], ('8413', 0.9985027313232422)]\n",
            "[[[282.0, 46.0], [315.0, 46.0], [315.0, 60.0], [282.0, 60.0]], ('1NO', 0.9767632484436035)]\n",
            "[[[354.0, 45.0], [407.0, 45.0], [407.0, 59.0], [354.0, 59.0]], ('78000.00', 0.9944804310798645)]\n",
            "[[[456.0, 45.0], [483.0, 45.0], [483.0, 57.0], [456.0, 57.0]], ('0.00', 0.9933117628097534)]\n",
            "[[[494.0, 45.0], [543.0, 45.0], [543.0, 56.0], [494.0, 56.0]], ('78000.00', 0.995461106300354)]\n",
            "[[[560.0, 43.0], [612.0, 43.0], [612.0, 57.0], [560.0, 57.0]], ('78000.00', 0.9944612979888916)]\n",
            "[[[31.0, 64.0], [64.0, 64.0], [64.0, 77.0], [31.0, 77.0]], ('Pump', 0.9910174012184143)]\n",
            "[[[31.0, 80.0], [166.0, 79.0], [166.0, 93.0], [31.0, 94.0]], ('Solenoid Valve 2/224vdc', 0.938427746295929)]\n",
            "[[[220.0, 78.0], [249.0, 78.0], [249.0, 93.0], [220.0, 93.0]], ('8481', 0.9972835183143616)]\n",
            "[[[456.0, 77.0], [483.0, 77.0], [483.0, 89.0], [456.0, 89.0]], ('0.00', 0.9837182760238647)]\n",
            "[[[499.0, 75.0], [545.0, 75.0], [545.0, 89.0], [499.0, 89.0]], ('3200.00', 0.9952859878540039)]\n",
            "[[[566.0, 74.0], [612.0, 74.0], [612.0, 89.0], [566.0, 89.0]], ('6400.00', 0.9923862814903259)]\n",
            "[[[280.0, 90.0], [315.0, 90.0], [315.0, 105.0], [280.0, 105.0]], ('2NO', 0.9723656177520752)]\n",
            "[[[361.0, 90.0], [407.0, 90.0], [407.0, 104.0], [361.0, 104.0]], ('3200.00', 0.99577397108078)]\n",
            "[[[31.0, 108.0], [121.0, 107.0], [121.0, 121.0], [32.0, 122.0]], ('Check Valve 1/2', 0.9563330411911011)]\n",
            "[[[221.0, 108.0], [249.0, 108.0], [249.0, 121.0], [221.0, 121.0]], ('8481', 0.9984059929847717)]\n",
            "[[[454.0, 106.0], [483.0, 103.0], [484.0, 117.0], [455.0, 120.0]], ('0.00', 0.9875277280807495)]\n",
            "[[[500.0, 104.0], [545.0, 104.0], [545.0, 118.0], [500.0, 118.0]], ('1850.00', 0.9945277571678162)]\n",
            "[[[565.0, 103.0], [613.0, 103.0], [613.0, 117.0], [565.0, 117.0]], ('3700.00', 0.9917264580726624)]\n",
            "[[[7.0, 126.0], [13.0, 126.0], [13.0, 135.0], [7.0, 135.0]], ('3', 0.6382533311843872)]\n",
            "[[[281.0, 120.0], [315.0, 120.0], [315.0, 135.0], [281.0, 135.0]], ('2NO', 0.9792035222053528)]\n",
            "[[[363.0, 121.0], [406.0, 121.0], [406.0, 132.0], [363.0, 132.0]], ('1850.00', 0.9924020767211914)]\n",
            "[[[505.0, 192.0], [547.0, 192.0], [547.0, 206.0], [505.0, 206.0]], ('Freight', 0.9902230501174927)]\n",
            "[[[586.0, 192.0], [612.0, 192.0], [612.0, 204.0], [586.0, 204.0]], ('0.00', 0.9942625761032104)]\n",
            "[[[485.0, 214.0], [545.0, 214.0], [545.0, 225.0], [485.0, 225.0]], ('Basic value', 0.963576078414917)]\n",
            "[[[561.0, 212.0], [612.0, 212.0], [612.0, 225.0], [561.0, 225.0]], ('88100.00', 0.9946956634521484)]\n",
            "[[[302.0, 228.0], [338.0, 228.0], [338.0, 243.0], [302.0, 243.0]], ('CGST', 0.9944390058517456)]\n",
            "[[[372.0, 228.0], [407.0, 228.0], [407.0, 242.0], [372.0, 242.0]], ('9.00%', 0.9570962190628052)]\n",
            "[[[568.0, 226.0], [612.0, 226.0], [612.0, 240.0], [568.0, 240.0]], ('7929.00', 0.9968467950820923)]\n",
            "[[[302.0, 243.0], [338.0, 243.0], [338.0, 258.0], [302.0, 258.0]], ('SGST', 0.9952542781829834)]\n",
            "[[[372.0, 243.0], [408.0, 243.0], [408.0, 257.0], [372.0, 257.0]], ('9.00%', 0.9980270266532898)]\n",
            "[[[568.0, 240.0], [613.0, 240.0], [613.0, 254.0], [568.0, 254.0]], ('7929.00', 0.9950212240219116)]\n",
            "[[[307.0, 258.0], [339.0, 258.0], [339.0, 272.0], [307.0, 272.0]], ('IGST', 0.9959328174591064)]\n",
            "[[[372.0, 257.0], [408.0, 257.0], [408.0, 271.0], [372.0, 271.0]], ('0.00%', 0.9962207078933716)]\n",
            "[[[585.0, 254.0], [613.0, 254.0], [613.0, 269.0], [585.0, 269.0]], ('0.00', 0.9526457190513611)]\n",
            "[[[397.0, 271.0], [485.0, 271.0], [485.0, 284.0], [397.0, 284.0]], ('GRAND TOTAL', 0.9727221131324768)]\n",
            "[[[550.0, 271.0], [612.0, 271.0], [612.0, 282.0], [550.0, 282.0]], ('103958.00', 0.9967718124389648)]\n"
          ]
        }
      ]
    },
    {
      "cell_type": "code",
      "source": [
        "texts = [line[1][0] for line in output[0]]\n",
        "probabilities = [line[1][1] for line in output[0]]\n"
      ],
      "metadata": {
        "id": "fvmG9hwUoVTB"
      },
      "execution_count": 107,
      "outputs": []
    },
    {
      "cell_type": "code",
      "source": [
        "image_boxes = image_cv.copy()"
      ],
      "metadata": {
        "id": "5ju37dT0ouIp"
      },
      "execution_count": 108,
      "outputs": []
    },
    {
      "cell_type": "code",
      "source": [
        "for box,text in zip(boxes,texts):\n",
        "    x1, y1 = int(box[0][0]), int(box[0][1])\n",
        "    x2, y2 = int(box[2][0]), int(box[2][1])\n",
        "    cv2.rectangle(image_boxes, (x1, y1), (x2, y2), (0, 0, 255), 1)\n",
        "    cv2.putText(image_boxes, text, (x1, y1), cv2.FONT_HERSHEY_SIMPLEX, 0.1, (222, 0, 0), 1 )"
      ],
      "metadata": {
        "id": "DyQqfljkox51"
      },
      "execution_count": 109,
      "outputs": []
    },
    {
      "cell_type": "code",
      "source": [
        "cv2.imwrite('detections.jpg', image_boxes)"
      ],
      "metadata": {
        "id": "j6xtrDXPqzxs",
        "colab": {
          "base_uri": "https://localhost:8080/"
        },
        "outputId": "ed44b071-763e-407b-c422-0141aac048d7"
      },
      "execution_count": 110,
      "outputs": [
        {
          "output_type": "execute_result",
          "data": {
            "text/plain": [
              "True"
            ]
          },
          "metadata": {},
          "execution_count": 110
        }
      ]
    },
    {
      "cell_type": "code",
      "source": [
        "from google.colab import files\n",
        "\n",
        "# Download the saved image to your local machine\n",
        "files.download('detections.jpg')"
      ],
      "metadata": {
        "id": "rt3mPCH5raS2",
        "colab": {
          "base_uri": "https://localhost:8080/",
          "height": 17
        },
        "outputId": "5fa477d6-160a-4ccc-d418-afe09bc48cdd"
      },
      "execution_count": 111,
      "outputs": [
        {
          "output_type": "display_data",
          "data": {
            "text/plain": [
              "<IPython.core.display.Javascript object>"
            ],
            "application/javascript": [
              "\n",
              "    async function download(id, filename, size) {\n",
              "      if (!google.colab.kernel.accessAllowed) {\n",
              "        return;\n",
              "      }\n",
              "      const div = document.createElement('div');\n",
              "      const label = document.createElement('label');\n",
              "      label.textContent = `Downloading \"${filename}\": `;\n",
              "      div.appendChild(label);\n",
              "      const progress = document.createElement('progress');\n",
              "      progress.max = size;\n",
              "      div.appendChild(progress);\n",
              "      document.body.appendChild(div);\n",
              "\n",
              "      const buffers = [];\n",
              "      let downloaded = 0;\n",
              "\n",
              "      const channel = await google.colab.kernel.comms.open(id);\n",
              "      // Send a message to notify the kernel that we're ready.\n",
              "      channel.send({})\n",
              "\n",
              "      for await (const message of channel.messages) {\n",
              "        // Send a message to notify the kernel that we're ready.\n",
              "        channel.send({})\n",
              "        if (message.buffers) {\n",
              "          for (const buffer of message.buffers) {\n",
              "            buffers.push(buffer);\n",
              "            downloaded += buffer.byteLength;\n",
              "            progress.value = downloaded;\n",
              "          }\n",
              "        }\n",
              "      }\n",
              "      const blob = new Blob(buffers, {type: 'application/binary'});\n",
              "      const a = document.createElement('a');\n",
              "      a.href = window.URL.createObjectURL(blob);\n",
              "      a.download = filename;\n",
              "      div.appendChild(a);\n",
              "      a.click();\n",
              "      div.remove();\n",
              "    }\n",
              "  "
            ]
          },
          "metadata": {}
        },
        {
          "output_type": "display_data",
          "data": {
            "text/plain": [
              "<IPython.core.display.Javascript object>"
            ],
            "application/javascript": [
              "download(\"download_ec7bb034-cdef-45d2-bbe0-172aa1555f50\", \"detections.jpg\", 78994)"
            ]
          },
          "metadata": {}
        }
      ]
    },
    {
      "cell_type": "markdown",
      "source": [
        "# Table Reconstruction"
      ],
      "metadata": {
        "id": "7y_WVI22rzeG"
      }
    },
    {
      "cell_type": "code",
      "source": [
        "im = image_cv.copy()"
      ],
      "metadata": {
        "id": "doeO-d_lwPr8"
      },
      "execution_count": 112,
      "outputs": []
    },
    {
      "cell_type": "code",
      "source": [
        "horiz_boxes = []\n",
        "vert_boxes = []\n",
        "\n",
        "for box in boxes:\n",
        "  x_h, x_v = 0,int(box[0][0])\n",
        "  y_h, y_v = int(box[0][1]),0\n",
        "\n",
        "  width_h, width_v = image_width, int(box[2][0]-box[0][0])\n",
        "  height_h, height_v = int(box[2][1]-box[0][1]), image_height\n",
        "\n",
        "  horiz_boxes.append([x_h, y_h, x_h + width_h, y_h + height_h])\n",
        "  vert_boxes.append([x_v, y_v, x_v + width_v, y_v + height_v])\n",
        "\n",
        "  cv2.rectangle(im,(x_h, y_h), (x_h + width_h, y_h + height_h),(255,0,0),1)\n",
        "  cv2.rectangle(im,(x_v, y_v), (x_v + width_v, y_v + height_v),(0,255,0),1)\n"
      ],
      "metadata": {
        "id": "Fh1Dcik7r45_"
      },
      "execution_count": 113,
      "outputs": []
    },
    {
      "cell_type": "code",
      "source": [
        "cv2.imwrite('horiz_vert.jpg',im)\n",
        "\n",
        "from google.colab import files\n",
        "\n",
        "# Download the saved image to your local machine\n",
        "files.download('horiz_vert.jpg')"
      ],
      "metadata": {
        "id": "PQRU2giKw9n2",
        "colab": {
          "base_uri": "https://localhost:8080/",
          "height": 17
        },
        "outputId": "8fef0555-4bd6-4aac-ff51-91830ef3ce6f"
      },
      "execution_count": 114,
      "outputs": [
        {
          "output_type": "display_data",
          "data": {
            "text/plain": [
              "<IPython.core.display.Javascript object>"
            ],
            "application/javascript": [
              "\n",
              "    async function download(id, filename, size) {\n",
              "      if (!google.colab.kernel.accessAllowed) {\n",
              "        return;\n",
              "      }\n",
              "      const div = document.createElement('div');\n",
              "      const label = document.createElement('label');\n",
              "      label.textContent = `Downloading \"${filename}\": `;\n",
              "      div.appendChild(label);\n",
              "      const progress = document.createElement('progress');\n",
              "      progress.max = size;\n",
              "      div.appendChild(progress);\n",
              "      document.body.appendChild(div);\n",
              "\n",
              "      const buffers = [];\n",
              "      let downloaded = 0;\n",
              "\n",
              "      const channel = await google.colab.kernel.comms.open(id);\n",
              "      // Send a message to notify the kernel that we're ready.\n",
              "      channel.send({})\n",
              "\n",
              "      for await (const message of channel.messages) {\n",
              "        // Send a message to notify the kernel that we're ready.\n",
              "        channel.send({})\n",
              "        if (message.buffers) {\n",
              "          for (const buffer of message.buffers) {\n",
              "            buffers.push(buffer);\n",
              "            downloaded += buffer.byteLength;\n",
              "            progress.value = downloaded;\n",
              "          }\n",
              "        }\n",
              "      }\n",
              "      const blob = new Blob(buffers, {type: 'application/binary'});\n",
              "      const a = document.createElement('a');\n",
              "      a.href = window.URL.createObjectURL(blob);\n",
              "      a.download = filename;\n",
              "      div.appendChild(a);\n",
              "      a.click();\n",
              "      div.remove();\n",
              "    }\n",
              "  "
            ]
          },
          "metadata": {}
        },
        {
          "output_type": "display_data",
          "data": {
            "text/plain": [
              "<IPython.core.display.Javascript object>"
            ],
            "application/javascript": [
              "download(\"download_e9932ed9-6573-49ab-a6dc-3dcbd7a60731\", \"horiz_vert.jpg\", 135631)"
            ]
          },
          "metadata": {}
        }
      ]
    },
    {
      "cell_type": "code",
      "source": [
        "import tensorflow as tf\n",
        "\n",
        "horiz_out = tf.image.non_max_suppression(\n",
        "    horiz_boxes,\n",
        "    probabilities,\n",
        "    max_output_size = 1000,\n",
        "    iou_threshold = 0.1,\n",
        "    score_threshold = float('-inf'),\n",
        "    name = None\n",
        ")"
      ],
      "metadata": {
        "id": "zxNIBHGAxOHM"
      },
      "execution_count": 115,
      "outputs": []
    },
    {
      "cell_type": "code",
      "source": [
        "import numpy as np\n",
        "\n",
        "horiz_lines = np.sort(np.array(horiz_out))\n",
        "print(horiz_lines)"
      ],
      "metadata": {
        "id": "A-UHfKCU6m3b",
        "colab": {
          "base_uri": "https://localhost:8080/"
        },
        "outputId": "77109bc2-a1b7-49e6-ed82-a0ed337a8443"
      },
      "execution_count": 116,
      "outputs": [
        {
          "output_type": "stream",
          "name": "stdout",
          "text": [
            "[ 2 10 14 20 22 29 35 37 39 42 44 47 50]\n"
          ]
        }
      ]
    },
    {
      "cell_type": "code",
      "source": [
        "im_nms = image_cv.copy()"
      ],
      "metadata": {
        "id": "-yMHOmHa7UcX"
      },
      "execution_count": 117,
      "outputs": []
    },
    {
      "cell_type": "code",
      "source": [
        "for val in horiz_lines:\n",
        "  cv2.rectangle(im_nms, (int(horiz_boxes[val][0]), int(horiz_boxes[val][1])), (int(horiz_boxes[val][2]), int(horiz_boxes[val][3])), (0, 0, 255), 1)"
      ],
      "metadata": {
        "id": "QAB_sySP7sXW"
      },
      "execution_count": 118,
      "outputs": []
    },
    {
      "cell_type": "code",
      "source": [
        "cv2.imwrite('im_nms.jpg',im_nms)"
      ],
      "metadata": {
        "id": "jJ518xUW8GUp",
        "colab": {
          "base_uri": "https://localhost:8080/"
        },
        "outputId": "e8917303-fa0a-4a34-8f73-cd58f990313e"
      },
      "execution_count": 119,
      "outputs": [
        {
          "output_type": "execute_result",
          "data": {
            "text/plain": [
              "True"
            ]
          },
          "metadata": {},
          "execution_count": 119
        }
      ]
    },
    {
      "cell_type": "code",
      "source": [
        "from google.colab import files\n",
        "\n",
        "# Download the saved image to your local machine\n",
        "files.download('im_nms.jpg')"
      ],
      "metadata": {
        "id": "AQzEfWBF8R1D",
        "colab": {
          "base_uri": "https://localhost:8080/",
          "height": 17
        },
        "outputId": "a547d8f3-675a-4792-b09e-8032fce0866a"
      },
      "execution_count": 120,
      "outputs": [
        {
          "output_type": "display_data",
          "data": {
            "text/plain": [
              "<IPython.core.display.Javascript object>"
            ],
            "application/javascript": [
              "\n",
              "    async function download(id, filename, size) {\n",
              "      if (!google.colab.kernel.accessAllowed) {\n",
              "        return;\n",
              "      }\n",
              "      const div = document.createElement('div');\n",
              "      const label = document.createElement('label');\n",
              "      label.textContent = `Downloading \"${filename}\": `;\n",
              "      div.appendChild(label);\n",
              "      const progress = document.createElement('progress');\n",
              "      progress.max = size;\n",
              "      div.appendChild(progress);\n",
              "      document.body.appendChild(div);\n",
              "\n",
              "      const buffers = [];\n",
              "      let downloaded = 0;\n",
              "\n",
              "      const channel = await google.colab.kernel.comms.open(id);\n",
              "      // Send a message to notify the kernel that we're ready.\n",
              "      channel.send({})\n",
              "\n",
              "      for await (const message of channel.messages) {\n",
              "        // Send a message to notify the kernel that we're ready.\n",
              "        channel.send({})\n",
              "        if (message.buffers) {\n",
              "          for (const buffer of message.buffers) {\n",
              "            buffers.push(buffer);\n",
              "            downloaded += buffer.byteLength;\n",
              "            progress.value = downloaded;\n",
              "          }\n",
              "        }\n",
              "      }\n",
              "      const blob = new Blob(buffers, {type: 'application/binary'});\n",
              "      const a = document.createElement('a');\n",
              "      a.href = window.URL.createObjectURL(blob);\n",
              "      a.download = filename;\n",
              "      div.appendChild(a);\n",
              "      a.click();\n",
              "      div.remove();\n",
              "    }\n",
              "  "
            ]
          },
          "metadata": {}
        },
        {
          "output_type": "display_data",
          "data": {
            "text/plain": [
              "<IPython.core.display.Javascript object>"
            ],
            "application/javascript": [
              "download(\"download_f21d11c1-f524-4261-8116-06c863152e60\", \"im_nms.jpg\", 86641)"
            ]
          },
          "metadata": {}
        }
      ]
    },
    {
      "cell_type": "code",
      "source": [
        "vert_out = tf.image.non_max_suppression(\n",
        "    vert_boxes,\n",
        "    probabilities,\n",
        "    max_output_size = 1000,\n",
        "    iou_threshold = 0.1,\n",
        "    score_threshold = float('-inf'),\n",
        "    name = None\n",
        ")"
      ],
      "metadata": {
        "id": "prHdoQw78djb"
      },
      "execution_count": 121,
      "outputs": []
    },
    {
      "cell_type": "code",
      "source": [
        "print(vert_out)"
      ],
      "metadata": {
        "id": "WIe2PREtG8Nx",
        "colab": {
          "base_uri": "https://localhost:8080/"
        },
        "outputId": "b09b3119-a0b2-4bca-9791-8a0572744ff5"
      },
      "execution_count": 122,
      "outputs": [
        {
          "output_type": "stream",
          "name": "stdout",
          "text": [
            "tf.Tensor([14 44 10  5 42  2 46  0  7  6], shape=(10,), dtype=int32)\n"
          ]
        }
      ]
    },
    {
      "cell_type": "code",
      "source": [
        "vert_lines = np.sort(np.array(vert_out))\n",
        "print(vert_lines)"
      ],
      "metadata": {
        "id": "Fb9OWktjHZo2",
        "colab": {
          "base_uri": "https://localhost:8080/"
        },
        "outputId": "2485f157-c2dd-42c0-a872-55724f8e0f96"
      },
      "execution_count": 123,
      "outputs": [
        {
          "output_type": "stream",
          "name": "stdout",
          "text": [
            "[ 0  2  5  6  7 10 14 42 44 46]\n"
          ]
        }
      ]
    },
    {
      "cell_type": "code",
      "source": [
        "for val in vert_lines:\n",
        "  cv2.rectangle(im_nms, (int(vert_boxes[val][0]), int(vert_boxes[val][1])), (int(vert_boxes[val][2]), int(vert_boxes[val][3])), (255, 0, 0), 1)"
      ],
      "metadata": {
        "id": "QtOjpbJ7HPIv"
      },
      "execution_count": 124,
      "outputs": []
    },
    {
      "cell_type": "code",
      "source": [
        "cv2.imwrite('im_nms.jpg',im_nms)"
      ],
      "metadata": {
        "id": "9YNxXe9SG-Yb",
        "colab": {
          "base_uri": "https://localhost:8080/"
        },
        "outputId": "9386b4cf-0412-4bcc-ede4-fd52601bf7ce"
      },
      "execution_count": 125,
      "outputs": [
        {
          "output_type": "execute_result",
          "data": {
            "text/plain": [
              "True"
            ]
          },
          "metadata": {},
          "execution_count": 125
        }
      ]
    },
    {
      "cell_type": "code",
      "source": [
        "# Download the saved image to your local machine\n",
        "files.download('im_nms.jpg')"
      ],
      "metadata": {
        "id": "pYABHIwcH0px",
        "colab": {
          "base_uri": "https://localhost:8080/",
          "height": 17
        },
        "outputId": "1d572fb2-2795-4e30-8391-d3b8d0067612"
      },
      "execution_count": 126,
      "outputs": [
        {
          "output_type": "display_data",
          "data": {
            "text/plain": [
              "<IPython.core.display.Javascript object>"
            ],
            "application/javascript": [
              "\n",
              "    async function download(id, filename, size) {\n",
              "      if (!google.colab.kernel.accessAllowed) {\n",
              "        return;\n",
              "      }\n",
              "      const div = document.createElement('div');\n",
              "      const label = document.createElement('label');\n",
              "      label.textContent = `Downloading \"${filename}\": `;\n",
              "      div.appendChild(label);\n",
              "      const progress = document.createElement('progress');\n",
              "      progress.max = size;\n",
              "      div.appendChild(progress);\n",
              "      document.body.appendChild(div);\n",
              "\n",
              "      const buffers = [];\n",
              "      let downloaded = 0;\n",
              "\n",
              "      const channel = await google.colab.kernel.comms.open(id);\n",
              "      // Send a message to notify the kernel that we're ready.\n",
              "      channel.send({})\n",
              "\n",
              "      for await (const message of channel.messages) {\n",
              "        // Send a message to notify the kernel that we're ready.\n",
              "        channel.send({})\n",
              "        if (message.buffers) {\n",
              "          for (const buffer of message.buffers) {\n",
              "            buffers.push(buffer);\n",
              "            downloaded += buffer.byteLength;\n",
              "            progress.value = downloaded;\n",
              "          }\n",
              "        }\n",
              "      }\n",
              "      const blob = new Blob(buffers, {type: 'application/binary'});\n",
              "      const a = document.createElement('a');\n",
              "      a.href = window.URL.createObjectURL(blob);\n",
              "      a.download = filename;\n",
              "      div.appendChild(a);\n",
              "      a.click();\n",
              "      div.remove();\n",
              "    }\n",
              "  "
            ]
          },
          "metadata": {}
        },
        {
          "output_type": "display_data",
          "data": {
            "text/plain": [
              "<IPython.core.display.Javascript object>"
            ],
            "application/javascript": [
              "download(\"download_c0248576-8319-4775-ad26-be804a05773e\", \"im_nms.jpg\", 103470)"
            ]
          },
          "metadata": {}
        }
      ]
    },
    {
      "cell_type": "markdown",
      "source": [
        "# Convert to CSV\n"
      ],
      "metadata": {
        "id": "orQANTqBIQYX"
      }
    },
    {
      "cell_type": "code",
      "source": [
        "out_array = [[\"\" for i in range(len(vert_lines))] for j in range(len(horiz_lines))]\n",
        "print(np.array(out_array).shape)\n",
        "print(out_array)"
      ],
      "metadata": {
        "id": "_SV46LtSIVjF",
        "colab": {
          "base_uri": "https://localhost:8080/"
        },
        "outputId": "0a212c0e-7bd6-4666-8ad6-e1e3c43db605"
      },
      "execution_count": 127,
      "outputs": [
        {
          "output_type": "stream",
          "name": "stdout",
          "text": [
            "(13, 10)\n",
            "[['', '', '', '', '', '', '', '', '', ''], ['', '', '', '', '', '', '', '', '', ''], ['', '', '', '', '', '', '', '', '', ''], ['', '', '', '', '', '', '', '', '', ''], ['', '', '', '', '', '', '', '', '', ''], ['', '', '', '', '', '', '', '', '', ''], ['', '', '', '', '', '', '', '', '', ''], ['', '', '', '', '', '', '', '', '', ''], ['', '', '', '', '', '', '', '', '', ''], ['', '', '', '', '', '', '', '', '', ''], ['', '', '', '', '', '', '', '', '', ''], ['', '', '', '', '', '', '', '', '', ''], ['', '', '', '', '', '', '', '', '', '']]\n"
          ]
        }
      ]
    },
    {
      "cell_type": "code",
      "source": [
        "unordered_boxes = []\n",
        "\n",
        "for i in vert_lines:\n",
        "  unordered_boxes.append(vert_boxes[i][0])"
      ],
      "metadata": {
        "id": "Dq-e71l8yFoJ"
      },
      "execution_count": 128,
      "outputs": []
    },
    {
      "cell_type": "code",
      "source": [
        "ordered_boxes = np.argsort(unordered_boxes)"
      ],
      "metadata": {
        "id": "sI1NNG_Iyg6F"
      },
      "execution_count": 129,
      "outputs": []
    },
    {
      "cell_type": "code",
      "source": [
        "def intersection(box_1,box_2):\n",
        "  return [box_2[0],box_1[1],box_2[2],box_1[3]]"
      ],
      "metadata": {
        "id": "H7fikziMw35B"
      },
      "execution_count": 130,
      "outputs": []
    },
    {
      "cell_type": "code",
      "source": [
        "def iou(box_1, box_2):\n",
        "  x_1 = max(box_1[0], box_2[0])\n",
        "  y_1 = max(box_1[1], box_2[1])\n",
        "  x_2 = min(box_1[2], box_2[2])\n",
        "  y_2 = min(box_1[3], box_2[3])\n",
        "\n",
        "  inter = abs(max((x_2 - x_1, 0)) * max((y_2 - y_1), 0))\n",
        "  if inter == 0:\n",
        "    return 0\n",
        "\n",
        "  box_1_area = abs((box_1[2] - box_1[0]) * (box_1[3] - box_1[1]))\n",
        "  box_2_area = abs((box_2[2] - box_2[0]) * (box_2[3] - box_2[1]))\n",
        "\n",
        "  return inter / float(box_1_area + box_2_area - inter)"
      ],
      "metadata": {
        "id": "zPcMMybQzIkl"
      },
      "execution_count": 131,
      "outputs": []
    },
    {
      "cell_type": "code",
      "source": [
        "for i in range(len(horiz_lines)):\n",
        "  for j in range(len(vert_lines)):\n",
        "    resultant = intersection(horiz_boxes[horiz_lines[i]],vert_boxes[vert_lines[ordered_boxes[j]]])\n",
        "\n",
        "    for b in range(len(boxes)):\n",
        "      the_box = [boxes[b][0][0], boxes[b][0][1], boxes[b][2][0], boxes[b][2][1]]\n",
        "      if iou(resultant, the_box) > 0.1:\n",
        "        out_array[i][j] = texts[b]"
      ],
      "metadata": {
        "id": "LyJf67k5wR0t"
      },
      "execution_count": 132,
      "outputs": []
    },
    {
      "cell_type": "code",
      "source": [
        "out_array"
      ],
      "metadata": {
        "id": "xZvV3Jr1xeny",
        "colab": {
          "base_uri": "https://localhost:8080/"
        },
        "outputId": "befe5920-7bd4-4978-911e-f61ea8b3182e"
      },
      "execution_count": 133,
      "outputs": [
        {
          "output_type": "execute_result",
          "data": {
            "text/plain": [
              "[['Sr.', '', 'HSN/SAC', 'HSN/SAC', '', '', '', '', 'Taxable', 'AMOUNT'],\n",
              " ['No',\n",
              "  'DESCRIPTION',\n",
              "  'code',\n",
              "  '',\n",
              "  'Qnty',\n",
              "  'UOM',\n",
              "  'RATERs.',\n",
              "  'Discount',\n",
              "  'Value Rs',\n",
              "  'Rs.)'],\n",
              " ['',\n",
              "  'Car Washing Hi Pressure',\n",
              "  '',\n",
              "  '8413',\n",
              "  '',\n",
              "  '1NO',\n",
              "  '78000.00',\n",
              "  '0.00',\n",
              "  '78000.00',\n",
              "  '78000.00'],\n",
              " ['', 'Pump', '', '', '', '', '', '', '', '6400.00'],\n",
              " ['',\n",
              "  'Solenoid Valve 2/224vdc',\n",
              "  '',\n",
              "  '8481',\n",
              "  '',\n",
              "  '',\n",
              "  '',\n",
              "  '0.00',\n",
              "  '3200.00',\n",
              "  '6400.00'],\n",
              " ['', 'Check Valve 1/2', '', '8481', '', '', '', '0.00', '1850.00', '3700.00'],\n",
              " ['3', '', '', '', '', '2NO', '1850.00', '', '', ''],\n",
              " ['', '', '', '', '', '', '', '', 'Freight', '0.00'],\n",
              " ['', '', '', '', '', '', '', '', 'Basic value', '88100.00'],\n",
              " ['', '', '', '', '', 'CGST', '9.00%', '', '', '7929.00'],\n",
              " ['', '', '', '', '', 'SGST', '9.00%', '', '', '7929.00'],\n",
              " ['', '', '', '', '', 'IGST', '0.00%', '', '', '0.00'],\n",
              " ['', '', '', '', '', '', '', 'GRAND TOTAL', '', '103958.00']]"
            ]
          },
          "metadata": {},
          "execution_count": 133
        }
      ]
    },
    {
      "cell_type": "code",
      "source": [
        "import pandas as pd\n",
        "\n",
        "df = pd.DataFrame(out_array)"
      ],
      "metadata": {
        "id": "Y4eRWirs1n_F"
      },
      "execution_count": 134,
      "outputs": []
    },
    {
      "cell_type": "code",
      "source": [
        "# Display the first few rows of the DataFrame\n",
        "pd.DataFrame(out_array)\n"
      ],
      "metadata": {
        "id": "QmhBJI-h2bPD",
        "colab": {
          "base_uri": "https://localhost:8080/",
          "height": 457
        },
        "outputId": "1c40722b-8673-4412-b566-6ec4c3dae67c"
      },
      "execution_count": 135,
      "outputs": [
        {
          "output_type": "execute_result",
          "data": {
            "text/plain": [
              "      0                        1        2        3     4     5         6  \\\n",
              "0   Sr.                           HSN/SAC  HSN/SAC                         \n",
              "1    No              DESCRIPTION     code           Qnty   UOM   RATERs.   \n",
              "2        Car Washing Hi Pressure              8413         1NO  78000.00   \n",
              "3                           Pump                                           \n",
              "4        Solenoid Valve 2/224vdc              8481                         \n",
              "5                Check Valve 1/2              8481                         \n",
              "6     3                                                    2NO   1850.00   \n",
              "7                                                                          \n",
              "8                                                                          \n",
              "9                                                         CGST     9.00%   \n",
              "10                                                        SGST     9.00%   \n",
              "11                                                        IGST     0.00%   \n",
              "12                                                                         \n",
              "\n",
              "              7            8          9  \n",
              "0                    Taxable     AMOUNT  \n",
              "1      Discount     Value Rs       Rs.)  \n",
              "2          0.00     78000.00   78000.00  \n",
              "3                               6400.00  \n",
              "4          0.00      3200.00    6400.00  \n",
              "5          0.00      1850.00    3700.00  \n",
              "6                                        \n",
              "7                    Freight       0.00  \n",
              "8                Basic value   88100.00  \n",
              "9                               7929.00  \n",
              "10                              7929.00  \n",
              "11                                 0.00  \n",
              "12  GRAND TOTAL               103958.00  "
            ],
            "text/html": [
              "\n",
              "  <div id=\"df-a1bff13e-f07c-4118-9c93-3ab850fcc5d6\" class=\"colab-df-container\">\n",
              "    <div>\n",
              "<style scoped>\n",
              "    .dataframe tbody tr th:only-of-type {\n",
              "        vertical-align: middle;\n",
              "    }\n",
              "\n",
              "    .dataframe tbody tr th {\n",
              "        vertical-align: top;\n",
              "    }\n",
              "\n",
              "    .dataframe thead th {\n",
              "        text-align: right;\n",
              "    }\n",
              "</style>\n",
              "<table border=\"1\" class=\"dataframe\">\n",
              "  <thead>\n",
              "    <tr style=\"text-align: right;\">\n",
              "      <th></th>\n",
              "      <th>0</th>\n",
              "      <th>1</th>\n",
              "      <th>2</th>\n",
              "      <th>3</th>\n",
              "      <th>4</th>\n",
              "      <th>5</th>\n",
              "      <th>6</th>\n",
              "      <th>7</th>\n",
              "      <th>8</th>\n",
              "      <th>9</th>\n",
              "    </tr>\n",
              "  </thead>\n",
              "  <tbody>\n",
              "    <tr>\n",
              "      <th>0</th>\n",
              "      <td>Sr.</td>\n",
              "      <td></td>\n",
              "      <td>HSN/SAC</td>\n",
              "      <td>HSN/SAC</td>\n",
              "      <td></td>\n",
              "      <td></td>\n",
              "      <td></td>\n",
              "      <td></td>\n",
              "      <td>Taxable</td>\n",
              "      <td>AMOUNT</td>\n",
              "    </tr>\n",
              "    <tr>\n",
              "      <th>1</th>\n",
              "      <td>No</td>\n",
              "      <td>DESCRIPTION</td>\n",
              "      <td>code</td>\n",
              "      <td></td>\n",
              "      <td>Qnty</td>\n",
              "      <td>UOM</td>\n",
              "      <td>RATERs.</td>\n",
              "      <td>Discount</td>\n",
              "      <td>Value Rs</td>\n",
              "      <td>Rs.)</td>\n",
              "    </tr>\n",
              "    <tr>\n",
              "      <th>2</th>\n",
              "      <td></td>\n",
              "      <td>Car Washing Hi Pressure</td>\n",
              "      <td></td>\n",
              "      <td>8413</td>\n",
              "      <td></td>\n",
              "      <td>1NO</td>\n",
              "      <td>78000.00</td>\n",
              "      <td>0.00</td>\n",
              "      <td>78000.00</td>\n",
              "      <td>78000.00</td>\n",
              "    </tr>\n",
              "    <tr>\n",
              "      <th>3</th>\n",
              "      <td></td>\n",
              "      <td>Pump</td>\n",
              "      <td></td>\n",
              "      <td></td>\n",
              "      <td></td>\n",
              "      <td></td>\n",
              "      <td></td>\n",
              "      <td></td>\n",
              "      <td></td>\n",
              "      <td>6400.00</td>\n",
              "    </tr>\n",
              "    <tr>\n",
              "      <th>4</th>\n",
              "      <td></td>\n",
              "      <td>Solenoid Valve 2/224vdc</td>\n",
              "      <td></td>\n",
              "      <td>8481</td>\n",
              "      <td></td>\n",
              "      <td></td>\n",
              "      <td></td>\n",
              "      <td>0.00</td>\n",
              "      <td>3200.00</td>\n",
              "      <td>6400.00</td>\n",
              "    </tr>\n",
              "    <tr>\n",
              "      <th>5</th>\n",
              "      <td></td>\n",
              "      <td>Check Valve 1/2</td>\n",
              "      <td></td>\n",
              "      <td>8481</td>\n",
              "      <td></td>\n",
              "      <td></td>\n",
              "      <td></td>\n",
              "      <td>0.00</td>\n",
              "      <td>1850.00</td>\n",
              "      <td>3700.00</td>\n",
              "    </tr>\n",
              "    <tr>\n",
              "      <th>6</th>\n",
              "      <td>3</td>\n",
              "      <td></td>\n",
              "      <td></td>\n",
              "      <td></td>\n",
              "      <td></td>\n",
              "      <td>2NO</td>\n",
              "      <td>1850.00</td>\n",
              "      <td></td>\n",
              "      <td></td>\n",
              "      <td></td>\n",
              "    </tr>\n",
              "    <tr>\n",
              "      <th>7</th>\n",
              "      <td></td>\n",
              "      <td></td>\n",
              "      <td></td>\n",
              "      <td></td>\n",
              "      <td></td>\n",
              "      <td></td>\n",
              "      <td></td>\n",
              "      <td></td>\n",
              "      <td>Freight</td>\n",
              "      <td>0.00</td>\n",
              "    </tr>\n",
              "    <tr>\n",
              "      <th>8</th>\n",
              "      <td></td>\n",
              "      <td></td>\n",
              "      <td></td>\n",
              "      <td></td>\n",
              "      <td></td>\n",
              "      <td></td>\n",
              "      <td></td>\n",
              "      <td></td>\n",
              "      <td>Basic value</td>\n",
              "      <td>88100.00</td>\n",
              "    </tr>\n",
              "    <tr>\n",
              "      <th>9</th>\n",
              "      <td></td>\n",
              "      <td></td>\n",
              "      <td></td>\n",
              "      <td></td>\n",
              "      <td></td>\n",
              "      <td>CGST</td>\n",
              "      <td>9.00%</td>\n",
              "      <td></td>\n",
              "      <td></td>\n",
              "      <td>7929.00</td>\n",
              "    </tr>\n",
              "    <tr>\n",
              "      <th>10</th>\n",
              "      <td></td>\n",
              "      <td></td>\n",
              "      <td></td>\n",
              "      <td></td>\n",
              "      <td></td>\n",
              "      <td>SGST</td>\n",
              "      <td>9.00%</td>\n",
              "      <td></td>\n",
              "      <td></td>\n",
              "      <td>7929.00</td>\n",
              "    </tr>\n",
              "    <tr>\n",
              "      <th>11</th>\n",
              "      <td></td>\n",
              "      <td></td>\n",
              "      <td></td>\n",
              "      <td></td>\n",
              "      <td></td>\n",
              "      <td>IGST</td>\n",
              "      <td>0.00%</td>\n",
              "      <td></td>\n",
              "      <td></td>\n",
              "      <td>0.00</td>\n",
              "    </tr>\n",
              "    <tr>\n",
              "      <th>12</th>\n",
              "      <td></td>\n",
              "      <td></td>\n",
              "      <td></td>\n",
              "      <td></td>\n",
              "      <td></td>\n",
              "      <td></td>\n",
              "      <td></td>\n",
              "      <td>GRAND TOTAL</td>\n",
              "      <td></td>\n",
              "      <td>103958.00</td>\n",
              "    </tr>\n",
              "  </tbody>\n",
              "</table>\n",
              "</div>\n",
              "    <div class=\"colab-df-buttons\">\n",
              "\n",
              "  <div class=\"colab-df-container\">\n",
              "    <button class=\"colab-df-convert\" onclick=\"convertToInteractive('df-a1bff13e-f07c-4118-9c93-3ab850fcc5d6')\"\n",
              "            title=\"Convert this dataframe to an interactive table.\"\n",
              "            style=\"display:none;\">\n",
              "\n",
              "  <svg xmlns=\"http://www.w3.org/2000/svg\" height=\"24px\" viewBox=\"0 -960 960 960\">\n",
              "    <path d=\"M120-120v-720h720v720H120Zm60-500h600v-160H180v160Zm220 220h160v-160H400v160Zm0 220h160v-160H400v160ZM180-400h160v-160H180v160Zm440 0h160v-160H620v160ZM180-180h160v-160H180v160Zm440 0h160v-160H620v160Z\"/>\n",
              "  </svg>\n",
              "    </button>\n",
              "\n",
              "  <style>\n",
              "    .colab-df-container {\n",
              "      display:flex;\n",
              "      gap: 12px;\n",
              "    }\n",
              "\n",
              "    .colab-df-convert {\n",
              "      background-color: #E8F0FE;\n",
              "      border: none;\n",
              "      border-radius: 50%;\n",
              "      cursor: pointer;\n",
              "      display: none;\n",
              "      fill: #1967D2;\n",
              "      height: 32px;\n",
              "      padding: 0 0 0 0;\n",
              "      width: 32px;\n",
              "    }\n",
              "\n",
              "    .colab-df-convert:hover {\n",
              "      background-color: #E2EBFA;\n",
              "      box-shadow: 0px 1px 2px rgba(60, 64, 67, 0.3), 0px 1px 3px 1px rgba(60, 64, 67, 0.15);\n",
              "      fill: #174EA6;\n",
              "    }\n",
              "\n",
              "    .colab-df-buttons div {\n",
              "      margin-bottom: 4px;\n",
              "    }\n",
              "\n",
              "    [theme=dark] .colab-df-convert {\n",
              "      background-color: #3B4455;\n",
              "      fill: #D2E3FC;\n",
              "    }\n",
              "\n",
              "    [theme=dark] .colab-df-convert:hover {\n",
              "      background-color: #434B5C;\n",
              "      box-shadow: 0px 1px 3px 1px rgba(0, 0, 0, 0.15);\n",
              "      filter: drop-shadow(0px 1px 2px rgba(0, 0, 0, 0.3));\n",
              "      fill: #FFFFFF;\n",
              "    }\n",
              "  </style>\n",
              "\n",
              "    <script>\n",
              "      const buttonEl =\n",
              "        document.querySelector('#df-a1bff13e-f07c-4118-9c93-3ab850fcc5d6 button.colab-df-convert');\n",
              "      buttonEl.style.display =\n",
              "        google.colab.kernel.accessAllowed ? 'block' : 'none';\n",
              "\n",
              "      async function convertToInteractive(key) {\n",
              "        const element = document.querySelector('#df-a1bff13e-f07c-4118-9c93-3ab850fcc5d6');\n",
              "        const dataTable =\n",
              "          await google.colab.kernel.invokeFunction('convertToInteractive',\n",
              "                                                    [key], {});\n",
              "        if (!dataTable) return;\n",
              "\n",
              "        const docLinkHtml = 'Like what you see? Visit the ' +\n",
              "          '<a target=\"_blank\" href=https://colab.research.google.com/notebooks/data_table.ipynb>data table notebook</a>'\n",
              "          + ' to learn more about interactive tables.';\n",
              "        element.innerHTML = '';\n",
              "        dataTable['output_type'] = 'display_data';\n",
              "        await google.colab.output.renderOutput(dataTable, element);\n",
              "        const docLink = document.createElement('div');\n",
              "        docLink.innerHTML = docLinkHtml;\n",
              "        element.appendChild(docLink);\n",
              "      }\n",
              "    </script>\n",
              "  </div>\n",
              "\n",
              "\n",
              "<div id=\"df-39f57ffa-d46a-4cec-8d2d-2f429c1a9342\">\n",
              "  <button class=\"colab-df-quickchart\" onclick=\"quickchart('df-39f57ffa-d46a-4cec-8d2d-2f429c1a9342')\"\n",
              "            title=\"Suggest charts.\"\n",
              "            style=\"display:none;\">\n",
              "\n",
              "<svg xmlns=\"http://www.w3.org/2000/svg\" height=\"24px\"viewBox=\"0 0 24 24\"\n",
              "     width=\"24px\">\n",
              "    <g>\n",
              "        <path d=\"M19 3H5c-1.1 0-2 .9-2 2v14c0 1.1.9 2 2 2h14c1.1 0 2-.9 2-2V5c0-1.1-.9-2-2-2zM9 17H7v-7h2v7zm4 0h-2V7h2v10zm4 0h-2v-4h2v4z\"/>\n",
              "    </g>\n",
              "</svg>\n",
              "  </button>\n",
              "\n",
              "<style>\n",
              "  .colab-df-quickchart {\n",
              "    background-color: #E8F0FE;\n",
              "    border: none;\n",
              "    border-radius: 50%;\n",
              "    cursor: pointer;\n",
              "    display: none;\n",
              "    fill: #1967D2;\n",
              "    height: 32px;\n",
              "    padding: 0 0 0 0;\n",
              "    width: 32px;\n",
              "  }\n",
              "\n",
              "  .colab-df-quickchart:hover {\n",
              "    background-color: #E2EBFA;\n",
              "    box-shadow: 0px 1px 2px rgba(60, 64, 67, 0.3), 0px 1px 3px 1px rgba(60, 64, 67, 0.15);\n",
              "    fill: #174EA6;\n",
              "  }\n",
              "\n",
              "  [theme=dark] .colab-df-quickchart {\n",
              "    background-color: #3B4455;\n",
              "    fill: #D2E3FC;\n",
              "  }\n",
              "\n",
              "  [theme=dark] .colab-df-quickchart:hover {\n",
              "    background-color: #434B5C;\n",
              "    box-shadow: 0px 1px 3px 1px rgba(0, 0, 0, 0.15);\n",
              "    filter: drop-shadow(0px 1px 2px rgba(0, 0, 0, 0.3));\n",
              "    fill: #FFFFFF;\n",
              "  }\n",
              "</style>\n",
              "\n",
              "  <script>\n",
              "    async function quickchart(key) {\n",
              "      const charts = await google.colab.kernel.invokeFunction(\n",
              "          'suggestCharts', [key], {});\n",
              "    }\n",
              "    (() => {\n",
              "      let quickchartButtonEl =\n",
              "        document.querySelector('#df-39f57ffa-d46a-4cec-8d2d-2f429c1a9342 button');\n",
              "      quickchartButtonEl.style.display =\n",
              "        google.colab.kernel.accessAllowed ? 'block' : 'none';\n",
              "    })();\n",
              "  </script>\n",
              "</div>\n",
              "    </div>\n",
              "  </div>\n"
            ]
          },
          "metadata": {},
          "execution_count": 135
        }
      ]
    },
    {
      "cell_type": "code",
      "source": [
        "src = df[(df[1] != \"\") | (df[5].isin([\"CGST\", \"IGST\", \"SGST\"]))]\n",
        "\n",
        "src"
      ],
      "metadata": {
        "id": "HGtmYUNaEgBL",
        "colab": {
          "base_uri": "https://localhost:8080/",
          "height": 300
        },
        "outputId": "550100cc-f6ac-4095-dcf5-4c3b79c3caf0"
      },
      "execution_count": 136,
      "outputs": [
        {
          "output_type": "execute_result",
          "data": {
            "text/plain": [
              "     0                        1     2     3     4     5         6         7  \\\n",
              "1   No              DESCRIPTION  code        Qnty   UOM   RATERs.  Discount   \n",
              "2       Car Washing Hi Pressure        8413         1NO  78000.00      0.00   \n",
              "3                          Pump                                               \n",
              "4       Solenoid Valve 2/224vdc        8481                            0.00   \n",
              "5               Check Valve 1/2        8481                            0.00   \n",
              "9                                                  CGST     9.00%             \n",
              "10                                                 SGST     9.00%             \n",
              "11                                                 IGST     0.00%             \n",
              "\n",
              "           8         9  \n",
              "1   Value Rs      Rs.)  \n",
              "2   78000.00  78000.00  \n",
              "3              6400.00  \n",
              "4    3200.00   6400.00  \n",
              "5    1850.00   3700.00  \n",
              "9              7929.00  \n",
              "10             7929.00  \n",
              "11                0.00  "
            ],
            "text/html": [
              "\n",
              "  <div id=\"df-5a805d65-551f-4a3b-aaaf-0602cab81450\" class=\"colab-df-container\">\n",
              "    <div>\n",
              "<style scoped>\n",
              "    .dataframe tbody tr th:only-of-type {\n",
              "        vertical-align: middle;\n",
              "    }\n",
              "\n",
              "    .dataframe tbody tr th {\n",
              "        vertical-align: top;\n",
              "    }\n",
              "\n",
              "    .dataframe thead th {\n",
              "        text-align: right;\n",
              "    }\n",
              "</style>\n",
              "<table border=\"1\" class=\"dataframe\">\n",
              "  <thead>\n",
              "    <tr style=\"text-align: right;\">\n",
              "      <th></th>\n",
              "      <th>0</th>\n",
              "      <th>1</th>\n",
              "      <th>2</th>\n",
              "      <th>3</th>\n",
              "      <th>4</th>\n",
              "      <th>5</th>\n",
              "      <th>6</th>\n",
              "      <th>7</th>\n",
              "      <th>8</th>\n",
              "      <th>9</th>\n",
              "    </tr>\n",
              "  </thead>\n",
              "  <tbody>\n",
              "    <tr>\n",
              "      <th>1</th>\n",
              "      <td>No</td>\n",
              "      <td>DESCRIPTION</td>\n",
              "      <td>code</td>\n",
              "      <td></td>\n",
              "      <td>Qnty</td>\n",
              "      <td>UOM</td>\n",
              "      <td>RATERs.</td>\n",
              "      <td>Discount</td>\n",
              "      <td>Value Rs</td>\n",
              "      <td>Rs.)</td>\n",
              "    </tr>\n",
              "    <tr>\n",
              "      <th>2</th>\n",
              "      <td></td>\n",
              "      <td>Car Washing Hi Pressure</td>\n",
              "      <td></td>\n",
              "      <td>8413</td>\n",
              "      <td></td>\n",
              "      <td>1NO</td>\n",
              "      <td>78000.00</td>\n",
              "      <td>0.00</td>\n",
              "      <td>78000.00</td>\n",
              "      <td>78000.00</td>\n",
              "    </tr>\n",
              "    <tr>\n",
              "      <th>3</th>\n",
              "      <td></td>\n",
              "      <td>Pump</td>\n",
              "      <td></td>\n",
              "      <td></td>\n",
              "      <td></td>\n",
              "      <td></td>\n",
              "      <td></td>\n",
              "      <td></td>\n",
              "      <td></td>\n",
              "      <td>6400.00</td>\n",
              "    </tr>\n",
              "    <tr>\n",
              "      <th>4</th>\n",
              "      <td></td>\n",
              "      <td>Solenoid Valve 2/224vdc</td>\n",
              "      <td></td>\n",
              "      <td>8481</td>\n",
              "      <td></td>\n",
              "      <td></td>\n",
              "      <td></td>\n",
              "      <td>0.00</td>\n",
              "      <td>3200.00</td>\n",
              "      <td>6400.00</td>\n",
              "    </tr>\n",
              "    <tr>\n",
              "      <th>5</th>\n",
              "      <td></td>\n",
              "      <td>Check Valve 1/2</td>\n",
              "      <td></td>\n",
              "      <td>8481</td>\n",
              "      <td></td>\n",
              "      <td></td>\n",
              "      <td></td>\n",
              "      <td>0.00</td>\n",
              "      <td>1850.00</td>\n",
              "      <td>3700.00</td>\n",
              "    </tr>\n",
              "    <tr>\n",
              "      <th>9</th>\n",
              "      <td></td>\n",
              "      <td></td>\n",
              "      <td></td>\n",
              "      <td></td>\n",
              "      <td></td>\n",
              "      <td>CGST</td>\n",
              "      <td>9.00%</td>\n",
              "      <td></td>\n",
              "      <td></td>\n",
              "      <td>7929.00</td>\n",
              "    </tr>\n",
              "    <tr>\n",
              "      <th>10</th>\n",
              "      <td></td>\n",
              "      <td></td>\n",
              "      <td></td>\n",
              "      <td></td>\n",
              "      <td></td>\n",
              "      <td>SGST</td>\n",
              "      <td>9.00%</td>\n",
              "      <td></td>\n",
              "      <td></td>\n",
              "      <td>7929.00</td>\n",
              "    </tr>\n",
              "    <tr>\n",
              "      <th>11</th>\n",
              "      <td></td>\n",
              "      <td></td>\n",
              "      <td></td>\n",
              "      <td></td>\n",
              "      <td></td>\n",
              "      <td>IGST</td>\n",
              "      <td>0.00%</td>\n",
              "      <td></td>\n",
              "      <td></td>\n",
              "      <td>0.00</td>\n",
              "    </tr>\n",
              "  </tbody>\n",
              "</table>\n",
              "</div>\n",
              "    <div class=\"colab-df-buttons\">\n",
              "\n",
              "  <div class=\"colab-df-container\">\n",
              "    <button class=\"colab-df-convert\" onclick=\"convertToInteractive('df-5a805d65-551f-4a3b-aaaf-0602cab81450')\"\n",
              "            title=\"Convert this dataframe to an interactive table.\"\n",
              "            style=\"display:none;\">\n",
              "\n",
              "  <svg xmlns=\"http://www.w3.org/2000/svg\" height=\"24px\" viewBox=\"0 -960 960 960\">\n",
              "    <path d=\"M120-120v-720h720v720H120Zm60-500h600v-160H180v160Zm220 220h160v-160H400v160Zm0 220h160v-160H400v160ZM180-400h160v-160H180v160Zm440 0h160v-160H620v160ZM180-180h160v-160H180v160Zm440 0h160v-160H620v160Z\"/>\n",
              "  </svg>\n",
              "    </button>\n",
              "\n",
              "  <style>\n",
              "    .colab-df-container {\n",
              "      display:flex;\n",
              "      gap: 12px;\n",
              "    }\n",
              "\n",
              "    .colab-df-convert {\n",
              "      background-color: #E8F0FE;\n",
              "      border: none;\n",
              "      border-radius: 50%;\n",
              "      cursor: pointer;\n",
              "      display: none;\n",
              "      fill: #1967D2;\n",
              "      height: 32px;\n",
              "      padding: 0 0 0 0;\n",
              "      width: 32px;\n",
              "    }\n",
              "\n",
              "    .colab-df-convert:hover {\n",
              "      background-color: #E2EBFA;\n",
              "      box-shadow: 0px 1px 2px rgba(60, 64, 67, 0.3), 0px 1px 3px 1px rgba(60, 64, 67, 0.15);\n",
              "      fill: #174EA6;\n",
              "    }\n",
              "\n",
              "    .colab-df-buttons div {\n",
              "      margin-bottom: 4px;\n",
              "    }\n",
              "\n",
              "    [theme=dark] .colab-df-convert {\n",
              "      background-color: #3B4455;\n",
              "      fill: #D2E3FC;\n",
              "    }\n",
              "\n",
              "    [theme=dark] .colab-df-convert:hover {\n",
              "      background-color: #434B5C;\n",
              "      box-shadow: 0px 1px 3px 1px rgba(0, 0, 0, 0.15);\n",
              "      filter: drop-shadow(0px 1px 2px rgba(0, 0, 0, 0.3));\n",
              "      fill: #FFFFFF;\n",
              "    }\n",
              "  </style>\n",
              "\n",
              "    <script>\n",
              "      const buttonEl =\n",
              "        document.querySelector('#df-5a805d65-551f-4a3b-aaaf-0602cab81450 button.colab-df-convert');\n",
              "      buttonEl.style.display =\n",
              "        google.colab.kernel.accessAllowed ? 'block' : 'none';\n",
              "\n",
              "      async function convertToInteractive(key) {\n",
              "        const element = document.querySelector('#df-5a805d65-551f-4a3b-aaaf-0602cab81450');\n",
              "        const dataTable =\n",
              "          await google.colab.kernel.invokeFunction('convertToInteractive',\n",
              "                                                    [key], {});\n",
              "        if (!dataTable) return;\n",
              "\n",
              "        const docLinkHtml = 'Like what you see? Visit the ' +\n",
              "          '<a target=\"_blank\" href=https://colab.research.google.com/notebooks/data_table.ipynb>data table notebook</a>'\n",
              "          + ' to learn more about interactive tables.';\n",
              "        element.innerHTML = '';\n",
              "        dataTable['output_type'] = 'display_data';\n",
              "        await google.colab.output.renderOutput(dataTable, element);\n",
              "        const docLink = document.createElement('div');\n",
              "        docLink.innerHTML = docLinkHtml;\n",
              "        element.appendChild(docLink);\n",
              "      }\n",
              "    </script>\n",
              "  </div>\n",
              "\n",
              "\n",
              "<div id=\"df-b501d164-77b1-422d-b82d-077c1b21c2be\">\n",
              "  <button class=\"colab-df-quickchart\" onclick=\"quickchart('df-b501d164-77b1-422d-b82d-077c1b21c2be')\"\n",
              "            title=\"Suggest charts.\"\n",
              "            style=\"display:none;\">\n",
              "\n",
              "<svg xmlns=\"http://www.w3.org/2000/svg\" height=\"24px\"viewBox=\"0 0 24 24\"\n",
              "     width=\"24px\">\n",
              "    <g>\n",
              "        <path d=\"M19 3H5c-1.1 0-2 .9-2 2v14c0 1.1.9 2 2 2h14c1.1 0 2-.9 2-2V5c0-1.1-.9-2-2-2zM9 17H7v-7h2v7zm4 0h-2V7h2v10zm4 0h-2v-4h2v4z\"/>\n",
              "    </g>\n",
              "</svg>\n",
              "  </button>\n",
              "\n",
              "<style>\n",
              "  .colab-df-quickchart {\n",
              "    background-color: #E8F0FE;\n",
              "    border: none;\n",
              "    border-radius: 50%;\n",
              "    cursor: pointer;\n",
              "    display: none;\n",
              "    fill: #1967D2;\n",
              "    height: 32px;\n",
              "    padding: 0 0 0 0;\n",
              "    width: 32px;\n",
              "  }\n",
              "\n",
              "  .colab-df-quickchart:hover {\n",
              "    background-color: #E2EBFA;\n",
              "    box-shadow: 0px 1px 2px rgba(60, 64, 67, 0.3), 0px 1px 3px 1px rgba(60, 64, 67, 0.15);\n",
              "    fill: #174EA6;\n",
              "  }\n",
              "\n",
              "  [theme=dark] .colab-df-quickchart {\n",
              "    background-color: #3B4455;\n",
              "    fill: #D2E3FC;\n",
              "  }\n",
              "\n",
              "  [theme=dark] .colab-df-quickchart:hover {\n",
              "    background-color: #434B5C;\n",
              "    box-shadow: 0px 1px 3px 1px rgba(0, 0, 0, 0.15);\n",
              "    filter: drop-shadow(0px 1px 2px rgba(0, 0, 0, 0.3));\n",
              "    fill: #FFFFFF;\n",
              "  }\n",
              "</style>\n",
              "\n",
              "  <script>\n",
              "    async function quickchart(key) {\n",
              "      const charts = await google.colab.kernel.invokeFunction(\n",
              "          'suggestCharts', [key], {});\n",
              "    }\n",
              "    (() => {\n",
              "      let quickchartButtonEl =\n",
              "        document.querySelector('#df-b501d164-77b1-422d-b82d-077c1b21c2be button');\n",
              "      quickchartButtonEl.style.display =\n",
              "        google.colab.kernel.accessAllowed ? 'block' : 'none';\n",
              "    })();\n",
              "  </script>\n",
              "</div>\n",
              "    </div>\n",
              "  </div>\n"
            ]
          },
          "metadata": {},
          "execution_count": 136
        }
      ]
    },
    {
      "cell_type": "code",
      "source": [
        "excel_filename = 'output.xlsx'\n",
        "\n",
        "# Export the DataFrame to Excel\n",
        "src.to_excel(excel_filename, index=False)\n",
        "\n",
        "print(f\"DataFrame exported to '{excel_filename}'\")\n",
        "\n",
        "files.download(excel_filename)"
      ],
      "metadata": {
        "colab": {
          "base_uri": "https://localhost:8080/",
          "height": 34
        },
        "id": "XlwXWySptl55",
        "outputId": "01494f59-9447-4c2b-8a2c-c4c1bb2461f2"
      },
      "execution_count": 137,
      "outputs": [
        {
          "output_type": "stream",
          "name": "stdout",
          "text": [
            "DataFrame exported to 'output.xlsx'\n"
          ]
        },
        {
          "output_type": "display_data",
          "data": {
            "text/plain": [
              "<IPython.core.display.Javascript object>"
            ],
            "application/javascript": [
              "\n",
              "    async function download(id, filename, size) {\n",
              "      if (!google.colab.kernel.accessAllowed) {\n",
              "        return;\n",
              "      }\n",
              "      const div = document.createElement('div');\n",
              "      const label = document.createElement('label');\n",
              "      label.textContent = `Downloading \"${filename}\": `;\n",
              "      div.appendChild(label);\n",
              "      const progress = document.createElement('progress');\n",
              "      progress.max = size;\n",
              "      div.appendChild(progress);\n",
              "      document.body.appendChild(div);\n",
              "\n",
              "      const buffers = [];\n",
              "      let downloaded = 0;\n",
              "\n",
              "      const channel = await google.colab.kernel.comms.open(id);\n",
              "      // Send a message to notify the kernel that we're ready.\n",
              "      channel.send({})\n",
              "\n",
              "      for await (const message of channel.messages) {\n",
              "        // Send a message to notify the kernel that we're ready.\n",
              "        channel.send({})\n",
              "        if (message.buffers) {\n",
              "          for (const buffer of message.buffers) {\n",
              "            buffers.push(buffer);\n",
              "            downloaded += buffer.byteLength;\n",
              "            progress.value = downloaded;\n",
              "          }\n",
              "        }\n",
              "      }\n",
              "      const blob = new Blob(buffers, {type: 'application/binary'});\n",
              "      const a = document.createElement('a');\n",
              "      a.href = window.URL.createObjectURL(blob);\n",
              "      a.download = filename;\n",
              "      div.appendChild(a);\n",
              "      a.click();\n",
              "      div.remove();\n",
              "    }\n",
              "  "
            ]
          },
          "metadata": {}
        },
        {
          "output_type": "display_data",
          "data": {
            "text/plain": [
              "<IPython.core.display.Javascript object>"
            ],
            "application/javascript": [
              "download(\"download_cd3c06a8-2ecd-4637-b6f9-c26759b23937\", \"output.xlsx\", 5410)"
            ]
          },
          "metadata": {}
        }
      ]
    }
  ]
}